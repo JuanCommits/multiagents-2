{
 "cells": [
  {
   "cell_type": "code",
   "execution_count": 1,
   "metadata": {},
   "outputs": [],
   "source": [
    "from games.tictactoe.tictactoe import TicTacToe\n",
    "from agents.agent_random import RandomAgent\n",
    "from agents.minimax import MiniMax\n",
    "import numpy as np\n",
    "from collections import defaultdict\n",
    "from agents.mcts_t import MonteCarloTreeSearch as MCTS"
   ]
  },
  {
   "cell_type": "code",
   "execution_count": 2,
   "metadata": {},
   "outputs": [],
   "source": [
    "game = TicTacToe(render_mode='')"
   ]
  },
  {
   "cell_type": "code",
   "execution_count": null,
   "metadata": {},
   "outputs": [],
   "source": [
    "game.agents"
   ]
  },
  {
   "cell_type": "code",
   "execution_count": 4,
   "metadata": {},
   "outputs": [],
   "source": [
    "agents_rd = dict(map(lambda agent: (agent, MCTS(game=game, agent=agent)), game.agents))\n",
    "agents_rd = {\n",
    "    \"X\": MCTS(game=game, agent=\"X\", action_selection_mode='max_value', verbose=False),\n",
    "    \"O\": RandomAgent(game=game, agent=\"O\")\n",
    "}"
   ]
  },
  {
   "cell_type": "code",
   "execution_count": null,
   "metadata": {},
   "outputs": [],
   "source": [
    "game.reset()\n",
    "while not game.terminated():\n",
    "    game.render()\n",
    "    print(game.eval(game.agent_selection))\n",
    "    action = agents_rd[game.agent_selection].action()\n",
    "    print(game.action_space(game.agent_selection).n)\n",
    "    print(game.available_actions())\n",
    "    game.step(action)\n",
    "game.render()\n",
    "print(game.eval(game.agent_selection))\n",
    "print(game.rewards)"
   ]
  },
  {
   "cell_type": "code",
   "execution_count": 6,
   "metadata": {},
   "outputs": [],
   "source": [
    "players = agents_rd\n",
    "#players[game.agents[0]] = MiniMax(game=game, agent=game.agents[0], depth=1)\n",
    "#players[game.agents[1]] = MiniMax(game=game, agent=game.agents[1], depth=4)\n"
   ]
  },
  {
   "cell_type": "code",
   "execution_count": null,
   "metadata": {},
   "outputs": [],
   "source": [
    "values = defaultdict(list)\n",
    "N = 100\n",
    "for i in range(N):    \n",
    "    game.reset()\n",
    "    while not game.terminated():\n",
    "        agent = game.agent_selection\n",
    "        action = players[agent].action()\n",
    "        game.step(action)\n",
    "    for agent in game.agents:\n",
    "        values[agent].append(game.reward(agent))\n",
    "for agent in game.agents:\n",
    "    print(f\"Agent {agent} average reward: {np.mean(values[agent])} over {N} games\")\n",
    "    print(f\"Agent {agent} rewards: {values[agent]}\")"
   ]
  }
 ],
 "metadata": {
  "kernelspec": {
   "display_name": "Python 3",
   "language": "python",
   "name": "python3"
  },
  "language_info": {
   "codemirror_mode": {
    "name": "ipython",
    "version": 3
   },
   "file_extension": ".py",
   "mimetype": "text/x-python",
   "name": "python",
   "nbconvert_exporter": "python",
   "pygments_lexer": "ipython3",
   "version": "3.10.18"
  },
  "orig_nbformat": 4
 },
 "nbformat": 4,
 "nbformat_minor": 2
}
