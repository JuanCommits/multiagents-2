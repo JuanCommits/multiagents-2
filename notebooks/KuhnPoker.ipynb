{
 "cells": [
  {
   "cell_type": "code",
   "execution_count": 1,
   "metadata": {},
   "outputs": [],
   "source": [
    "from games.kuhn import KuhnPoker\n",
    "from agents.agent_random import RandomAgent\n",
    "from agents.counterfactualregret import CounterFactualRegret"
   ]
  },
  {
   "cell_type": "code",
   "execution_count": 2,
   "metadata": {},
   "outputs": [],
   "source": [
    "g = KuhnPoker(num_agents=3)"
   ]
  },
  {
   "cell_type": "code",
   "execution_count": 3,
   "metadata": {},
   "outputs": [],
   "source": [
    "agent_classes = [ CounterFactualRegret, RandomAgent, RandomAgent ]\n",
    "my_agents = {}\n",
    "for i, agent in enumerate(g.agents):\n",
    "    my_agents[agent] = agent_classes[i](game=g, agent=agent)"
   ]
  },
  {
   "cell_type": "code",
   "execution_count": 4,
   "metadata": {},
   "outputs": [
    {
     "name": "stdout",
     "output_type": "stream",
     "text": [
      "agent_0 K \n",
      "agent_1 Q \n",
      "agent_2 L \n",
      "Agent agent_1\n",
      "Action 1 - move b\n",
      "agent_0 K b\n",
      "agent_1 Q b\n",
      "agent_2 L b\n",
      "Agent agent_2\n",
      "Action 0 - move p\n",
      "agent_0 K bp\n",
      "agent_1 Q bp\n",
      "agent_2 L bp\n",
      "Agent agent_0\n",
      "Node does not exist. Playing random.\n",
      "Action 1 - move b\n",
      "agent_0 K bpb\n",
      "agent_1 Q bpb\n",
      "agent_2 L bpb\n",
      "Reward agent_0 = -2\n",
      "Reward agent_1 = -2\n",
      "Reward agent_2 = 4\n"
     ]
    }
   ],
   "source": [
    "g.reset()\n",
    "while not g.done():\n",
    "    g.render()\n",
    "    print(f\"Agent {g.agent_selection}\")\n",
    "    action = my_agents[g.agent_selection].action()\n",
    "    print(f\"Action {action} - move {g.action_move(action)}\")\n",
    "    g.step(action)\n",
    "g.render()\n",
    "for agent in g.agents:\n",
    "    print(f\"Reward {agent} = {g.reward(agent)}\")"
   ]
  },
  {
   "cell_type": "code",
   "execution_count": 5,
   "metadata": {},
   "outputs": [
    {
     "name": "stdout",
     "output_type": "stream",
     "text": [
      "Training agent agent_0\n",
      "Node does not exist. Playing random.\n",
      "Node does not exist. Playing random.\n",
      "Node does not exist. Playing random.\n",
      "Node does not exist. Playing random.\n",
      "Node does not exist. Playing random.\n",
      "Node does not exist. Playing random.\n",
      "Node does not exist. Playing random.\n",
      "Node does not exist. Playing random.\n",
      "Node does not exist. Playing random.\n",
      "Node does not exist. Playing random.\n",
      "Node does not exist. Playing random.\n",
      "Node does not exist. Playing random.\n",
      "Node does not exist. Playing random.\n",
      "Node does not exist. Playing random.\n",
      "Node does not exist. Playing random.\n",
      "Node does not exist. Playing random.\n",
      "Node does not exist. Playing random.\n",
      "Node does not exist. Playing random.\n",
      "Node does not exist. Playing random.\n",
      "Node does not exist. Playing random.\n",
      "Node does not exist. Playing random.\n",
      "Node does not exist. Playing random.\n",
      "Node does not exist. Playing random.\n",
      "Node does not exist. Playing random.\n",
      "Node does not exist. Playing random.\n",
      "Node does not exist. Playing random.\n",
      "Node does not exist. Playing random.\n",
      "Node does not exist. Playing random.\n",
      "Node does not exist. Playing random.\n",
      "Node does not exist. Playing random.\n",
      "Node does not exist. Playing random.\n",
      "Node does not exist. Playing random.\n",
      "Node does not exist. Playing random.\n",
      "Node does not exist. Playing random.\n",
      "Node does not exist. Playing random.\n",
      "Node does not exist. Playing random.\n",
      "Node does not exist. Playing random.\n",
      "Node does not exist. Playing random.\n",
      "Node does not exist. Playing random.\n",
      "Node does not exist. Playing random.\n",
      "Node does not exist. Playing random.\n",
      "Node does not exist. Playing random.\n",
      "Node does not exist. Playing random.\n",
      "Node does not exist. Playing random.\n",
      "Node does not exist. Playing random.\n",
      "Node does not exist. Playing random.\n",
      "Node does not exist. Playing random.\n",
      "Node does not exist. Playing random.\n",
      "Node does not exist. Playing random.\n",
      "Node does not exist. Playing random.\n",
      "Node does not exist. Playing random.\n",
      "Node does not exist. Playing random.\n",
      "Node does not exist. Playing random.\n",
      "Node does not exist. Playing random.\n",
      "Node does not exist. Playing random.\n",
      "Node does not exist. Playing random.\n",
      "Node does not exist. Playing random.\n",
      "Node does not exist. Playing random.\n",
      "Node does not exist. Playing random.\n",
      "Node does not exist. Playing random.\n",
      "Node does not exist. Playing random.\n",
      "Node does not exist. Playing random.\n",
      "Node does not exist. Playing random.\n",
      "Node does not exist. Playing random.\n",
      "Node does not exist. Playing random.\n",
      "Node does not exist. Playing random.\n",
      "Node does not exist. Playing random.\n",
      "Node does not exist. Playing random.\n",
      "Node does not exist. Playing random.\n",
      "Node does not exist. Playing random.\n",
      "Node does not exist. Playing random.\n",
      "Node does not exist. Playing random.\n",
      "Node does not exist. Playing random.\n",
      "Node does not exist. Playing random.\n",
      "Node does not exist. Playing random.\n",
      "Node does not exist. Playing random.\n",
      "Node does not exist. Playing random.\n",
      "Node does not exist. Playing random.\n",
      "Node does not exist. Playing random.\n",
      "Node does not exist. Playing random.\n",
      "Node does not exist. Playing random.\n",
      "Node does not exist. Playing random.\n",
      "Node does not exist. Playing random.\n",
      "Node does not exist. Playing random.\n",
      "Node does not exist. Playing random.\n",
      "Node does not exist. Playing random.\n",
      "Node does not exist. Playing random.\n",
      "Node does not exist. Playing random.\n",
      "Node does not exist. Playing random.\n",
      "Node does not exist. Playing random.\n",
      "Node does not exist. Playing random.\n",
      "Node does not exist. Playing random.\n",
      "Node does not exist. Playing random.\n",
      "Node does not exist. Playing random.\n",
      "Node does not exist. Playing random.\n",
      "Node does not exist. Playing random.\n",
      "Node does not exist. Playing random.\n",
      "Node does not exist. Playing random.\n",
      "Node does not exist. Playing random.\n",
      "Node does not exist. Playing random.\n",
      "Node does not exist. Playing random.\n",
      "Node does not exist. Playing random.\n",
      "Node does not exist. Playing random.\n",
      "{'1': array([0.99866711, 0.00099967]), '1p': array([0.92752416, 0.07214262]), '1pp': array([0.99966678, 0.        ]), '1ppb': array([0.87804065, 0.12162612]), '1ppbp': array([0.49983339, 0.49983339]), '1ppbb': array([0.49983339, 0.49983339]), '1pb': array([0.99966678, 0.        ]), '1pbp': array([0.98300566, 0.01666111]), '1pbb': array([0.82255915, 0.17710763]), '1b': array([0.99616794, 0.00349883]), '1bp': array([0.99966678, 0.        ]), '1bb': array([0.99966678, 0.        ]), '3p': array([0.        , 0.99966667]), '3pbp': array([0.00133333, 0.99833333]), '2': array([0.13625971, 0.86340674]), '2p': array([0.04172195, 0.95794449]), '2pp': array([0.103206  , 0.89646044]), '2ppb': array([0.02518346, 0.97448299]), '2ppbp': array([0.        , 0.99966644]), '2ppbb': array([0.        , 0.99966644]), '2pb': array([0.98724149, 0.01242495]), '2pbp': array([0.11060288, 0.88906356]), '2pbb': array([0.04094396, 0.95872248]), '2b': array([0.        , 0.99966644]), '2bp': array([0.99766511, 0.00200133]), '2bb': array([0.99766511, 0.00200133]), '0b': array([0.01384718, 0.98581915]), '3bb': array([0.        , 0.99966589]), '3': array([0.        , 0.99966578]), '3pp': array([0.        , 0.99966578]), '3ppb': array([0.00300802, 0.99665775]), '3ppbp': array([0.        , 0.99966578]), '3ppbb': array([0.        , 0.99966578]), '3pb': array([3.34224599e-04, 9.99331551e-01]), '3pbb': array([0.        , 0.99966578]), '3b': array([0.        , 0.99966578]), '3bp': array([8.35561497e-04, 9.98830214e-01]), '0bb': array([0.99748407, 0.00218048]), '0bp': array([9.99494779e-01, 1.68406871e-04]), '0': array([0.99966307, 0.        ]), '0p': array([9.99494609e-01, 1.68463612e-04]), '0pp': array([0.99966307, 0.        ]), '0ppb': array([0.92368598, 0.07597709]), '0ppbp': array([0.49983154, 0.49983154]), '0ppbb': array([0.49983154, 0.49983154]), '0pb': array([0.99966307, 0.        ]), '0pbp': array([9.99494609e-01, 1.68463612e-04]), '0pbb': array([0.93530997, 0.0643531 ])}\n",
      "Training agent agent_1\n",
      "Training agent agent_2\n"
     ]
    }
   ],
   "source": [
    "for agent in g.agents:\n",
    "    print('Training agent ' + agent)\n",
    "    my_agents[agent].train(1000)\n",
    "    if hasattr(my_agents[agent], 'node_dict'):\n",
    "        print(dict(map(lambda n: (n, my_agents[agent].node_dict[n].policy()), my_agents[agent].node_dict.keys())))"
   ]
  },
  {
   "cell_type": "code",
   "execution_count": 6,
   "metadata": {},
   "outputs": [
    {
     "name": "stdout",
     "output_type": "stream",
     "text": [
      "Average rewards: {'agent_0': 0.3665, 'agent_1': -0.2865, 'agent_2': -0.08}\n"
     ]
    }
   ],
   "source": [
    "cum_rewards = dict(map(lambda agent: (agent, 0.), g.agents))\n",
    "niter = 2000\n",
    "for _ in range(niter):\n",
    "    g.reset()\n",
    "    turn = 0\n",
    "    while not g.done():\n",
    "        #print('Turn: ', turn)\n",
    "        #print('\\tPlayer: ', g.agent_selection)\n",
    "        #print('\\tObservation: ', g.observe(g.agent_selection))\n",
    "        a = my_agents[g.agent_selection].action()\n",
    "        #print('\\tAction: ', g._moves[a])\n",
    "        g.step(action=a)\n",
    "        turn += 1\n",
    "    #print('Rewards: ', g.rewards)\n",
    "    for agent in g.agents:\n",
    "        cum_rewards[agent] += g.rewards[agent]\n",
    "print('Average rewards:', dict(map(lambda agent: (agent, cum_rewards[agent]/niter), g.agents)))\n"
   ]
  }
 ],
 "metadata": {
  "kernelspec": {
   "display_name": "MultiAgents",
   "language": "python",
   "name": "python3"
  },
  "language_info": {
   "codemirror_mode": {
    "name": "ipython",
    "version": 3
   },
   "file_extension": ".py",
   "mimetype": "text/x-python",
   "name": "python",
   "nbconvert_exporter": "python",
   "pygments_lexer": "ipython3",
   "version": "3.10.18"
  },
  "orig_nbformat": 4
 },
 "nbformat": 4,
 "nbformat_minor": 2
}
